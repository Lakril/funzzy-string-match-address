{
 "cells": [
  {
   "cell_type": "code",
   "execution_count": 87,
   "metadata": {},
   "outputs": [],
   "source": [
    "import numpy as np\n",
    "import pandas as pd\n",
    "import openpyxl\n",
    "import random\n",
    "import gc\n",
    "import timeit\n",
    "import sys\n",
    "from datetime import datetime as dt\n",
    "import os"
   ]
  },
  {
   "cell_type": "code",
   "execution_count": 88,
   "metadata": {},
   "outputs": [],
   "source": [
    "filename = \"stro_licenses_datasd-san-diego.xlsx\"\n",
    "\n",
    "\n",
    "def get_sheet_names(excel_file):\n",
    "    workbook = openpyxl.load_workbook(excel_file)\n",
    "    sheet_names = workbook.sheetnames\n",
    "    return sheet_names"
   ]
  },
  {
   "cell_type": "code",
   "execution_count": 89,
   "metadata": {},
   "outputs": [],
   "source": [
    "sheet_name = get_sheet_names(filename)\n",
    "dfa = pd.read_excel(filename, sheet_name=sheet_name[0], usecols=[0, 1], header=0) # sheet: 'stro_licenses_datasd-san-diego'\n",
    "dfb = pd.read_excel(filename, sheet_name=sheet_name[2]) # sheet: 'data-apn'"
   ]
  },
  {
   "cell_type": "code",
   "execution_count": 90,
   "metadata": {},
   "outputs": [
    {
     "name": "stdout",
     "output_type": "stream",
     "text": [
      "sheet: stro_licenses_datasd-san-diego\n",
      "Total row:\t 7253 \n",
      "Total colums:\t 2\n",
      "\n",
      "sheet: data-apn\n",
      "Total row:\t 39620 \n",
      "Total colums:\t 3\n"
     ]
    }
   ],
   "source": [
    "# total rows and columns\n",
    "row, col = dfa.shape\n",
    "print('sheet: stro_licenses_datasd-san-diego\\nTotal row:\\t {} \\nTotal colums:\\t {}'.format(row, col))\n",
    "\n",
    "row, col = dfb.shape\n",
    "print('\\nsheet: data-apn\\nTotal row:\\t {} \\nTotal colums:\\t {}'.format(row, col))"
   ]
  },
  {
   "cell_type": "code",
   "execution_count": 91,
   "metadata": {},
   "outputs": [
    {
     "data": {
      "text/html": [
       "<div>\n",
       "<style scoped>\n",
       "    .dataframe tbody tr th:only-of-type {\n",
       "        vertical-align: middle;\n",
       "    }\n",
       "\n",
       "    .dataframe tbody tr th {\n",
       "        vertical-align: top;\n",
       "    }\n",
       "\n",
       "    .dataframe thead th {\n",
       "        text-align: right;\n",
       "    }\n",
       "</style>\n",
       "<table border=\"1\" class=\"dataframe\">\n",
       "  <thead>\n",
       "    <tr style=\"text-align: right;\">\n",
       "      <th></th>\n",
       "      <th>license_id</th>\n",
       "      <th>address</th>\n",
       "    </tr>\n",
       "  </thead>\n",
       "  <tbody>\n",
       "    <tr>\n",
       "      <th>0</th>\n",
       "      <td>STR-01686L</td>\n",
       "      <td>4855 ALBERSON Ct, SAN DIEGO, CA 92130</td>\n",
       "    </tr>\n",
       "    <tr>\n",
       "      <th>1</th>\n",
       "      <td>STR-01757L</td>\n",
       "      <td>2028 30th St, San Diego, CA 92104</td>\n",
       "    </tr>\n",
       "    <tr>\n",
       "      <th>2</th>\n",
       "      <td>STR-05313L</td>\n",
       "      <td>5145 COBAN St, SAN DIEGO, CA 92114</td>\n",
       "    </tr>\n",
       "  </tbody>\n",
       "</table>\n",
       "</div>"
      ],
      "text/plain": [
       "   license_id                                address\n",
       "0  STR-01686L  4855 ALBERSON Ct, SAN DIEGO, CA 92130\n",
       "1  STR-01757L      2028 30th St, San Diego, CA 92104\n",
       "2  STR-05313L     5145 COBAN St, SAN DIEGO, CA 92114"
      ]
     },
     "execution_count": 91,
     "metadata": {},
     "output_type": "execute_result"
    }
   ],
   "source": [
    "dfa.head(3)"
   ]
  },
  {
   "cell_type": "code",
   "execution_count": 92,
   "metadata": {},
   "outputs": [
    {
     "data": {
      "text/html": [
       "<div>\n",
       "<style scoped>\n",
       "    .dataframe tbody tr th:only-of-type {\n",
       "        vertical-align: middle;\n",
       "    }\n",
       "\n",
       "    .dataframe tbody tr th {\n",
       "        vertical-align: top;\n",
       "    }\n",
       "\n",
       "    .dataframe thead th {\n",
       "        text-align: right;\n",
       "    }\n",
       "</style>\n",
       "<table border=\"1\" class=\"dataframe\">\n",
       "  <thead>\n",
       "    <tr style=\"text-align: right;\">\n",
       "      <th></th>\n",
       "      <th>permit</th>\n",
       "      <th>apn</th>\n",
       "      <th>parsed_address</th>\n",
       "    </tr>\n",
       "  </thead>\n",
       "  <tbody>\n",
       "    <tr>\n",
       "      <th>0</th>\n",
       "      <td>STR-02005L</td>\n",
       "      <td>4303703300</td>\n",
       "      <td>2070 ILLION ST 92110</td>\n",
       "    </tr>\n",
       "    <tr>\n",
       "      <th>1</th>\n",
       "      <td>STR-02053L</td>\n",
       "      <td>4495820800</td>\n",
       "      <td>3611 QUIMBY ST 92106</td>\n",
       "    </tr>\n",
       "    <tr>\n",
       "      <th>2</th>\n",
       "      <td>STR-00324L</td>\n",
       "      <td>4236032300</td>\n",
       "      <td>3625 MISSION BLVD 92109</td>\n",
       "    </tr>\n",
       "  </tbody>\n",
       "</table>\n",
       "</div>"
      ],
      "text/plain": [
       "       permit         apn           parsed_address\n",
       "0  STR-02005L  4303703300     2070 ILLION ST 92110\n",
       "1  STR-02053L  4495820800     3611 QUIMBY ST 92106\n",
       "2  STR-00324L  4236032300  3625 MISSION BLVD 92109"
      ]
     },
     "execution_count": 92,
     "metadata": {},
     "output_type": "execute_result"
    }
   ],
   "source": [
    "dfb.head(3)"
   ]
  },
  {
   "attachments": {},
   "cell_type": "markdown",
   "metadata": {},
   "source": [
    "## Data Cleaning:"
   ]
  },
  {
   "attachments": {},
   "cell_type": "markdown",
   "metadata": {},
   "source": [
    "#### Clean A"
   ]
  },
  {
   "cell_type": "code",
   "execution_count": 93,
   "metadata": {},
   "outputs": [
    {
     "data": {
      "text/plain": [
       "license_id    0\n",
       "address       4\n",
       "dtype: int64"
      ]
     },
     "execution_count": 93,
     "metadata": {},
     "output_type": "execute_result"
    }
   ],
   "source": [
    "# count nan values in columns\n",
    "dfa.isnull().sum()"
   ]
  },
  {
   "cell_type": "code",
   "execution_count": 94,
   "metadata": {},
   "outputs": [],
   "source": [
    "# Drop rows where specific column values are null / address == null\n",
    "dfa = dfa.dropna(subset=[\"address\"])"
   ]
  },
  {
   "attachments": {},
   "cell_type": "markdown",
   "metadata": {},
   "source": [
    "#### Clean B"
   ]
  },
  {
   "cell_type": "code",
   "execution_count": 95,
   "metadata": {},
   "outputs": [],
   "source": [
    "# Filtering dataframe column elements by different dtypes \n",
    "m = dfb['parsed_address'].apply(type) == int\n",
    "dfb = dfb[~m]\n",
    "dfb = dfb[~dfb['parsed_address'].str.startswith('#')]\n",
    "dfb = dfb[~dfb['parsed_address'].str.contains('NONE')]"
   ]
  },
  {
   "attachments": {},
   "cell_type": "markdown",
   "metadata": {},
   "source": [
    "### Normalize strings address dataframe dfa & dfb"
   ]
  },
  {
   "cell_type": "code",
   "execution_count": 96,
   "metadata": {},
   "outputs": [],
   "source": [
    "# Convert Pandas Uppercase Column\n",
    "dfa = dfa.apply(lambda x: x.astype(str).str.lower())\n",
    "dfb = dfb.apply(lambda x: x.astype(str).str.lower())"
   ]
  },
  {
   "cell_type": "code",
   "execution_count": 97,
   "metadata": {},
   "outputs": [],
   "source": [
    "# remove extra whitspace, special characters, , #UNIT -> #, #04 -> #4, etc\n",
    "dfa = (\n",
    "    dfa.replace({\"address\": r\"\\s+\"}, {\"address\": \" \"}, regex=True) # remove multiple spaces\n",
    "    .replace({\"address\": r\"\\,\\s\\w+\\s\\w+(\\s,\\s|,\\s)\\w+\\s\"}, {\"address\": \" \"}, regex=True) # \", SAN DIEGO, CA\"  --> \" \"\n",
    "    .replace({\"address\": r\"\\,\\s\\w+(\\s,\\s|,\\s)\\w+\\s\"}, {\"address\": \" \"}, regex=True)\n",
    "    .replace({\"address\": r\"(\\,\\s|\\s\\,)\"}, {\"address\": \" \"}, regex=True)\n",
    "    .replace({\"address\": r\"\\s(wk)\\s\"}, {\"address\": \" walk \"}, regex=True)\n",
    "    .replace({\"address\": r\"\\s(bl)\\s\"}, {\"address\": \" blvd \"}, regex=True)\n",
    "    .replace({\"address\": r\"\\s(ct)\\s\"}, {\"address\": \" court \"}, regex=True)\n",
    "    .replace({\"address\": r\"\\s(wy)\\s\"}, {\"address\": \" way \"}, regex=True)\n",
    "    .replace({\"address\": r\"\\s(tr)\\s\"}, {\"address\": \" trails \"}, regex=True)\n",
    "    .replace({\"address\": r\"\\s(rw)\\s\"}, {\"address\": \" row \"}, regex=True)\n",
    "    .replace({\"address\": r\"\\s(avenue)\\s\"}, {\"address\": \" ave \"}, regex=True)\n",
    "    .replace({\"address\": r\"\\s(terrance)\\s\"}, {\"address\": \" ter \"}, regex=True)\n",
    "    .replace({\"address\": r\"\\s(av)\\s\"}, {\"address\": \" ave \"}, regex=True)\n",
    "    .replace({\"address\": r\"\\s#unit\\s\"}, {\"address\": \" #\"}, regex=True) #UNIT -> #\n",
    "    .replace({\"address\": r\"\\s#(?=\\d\\s)\"}, {\"address\": \" #0\"}, regex=True) # 3243 OCEAN FRONT Wk, #4 SAN DIEGO , CA 92109 -> 3243 OCEAN FRONT Wk, #04 SAN DIEGO , CA 92109\n",
    "    .replace({\"address\": r\"\\s(rd rd)\\s\"}, {\"address\": \" rd \"}, regex=True) # 11942 rancho bernardo rd rd #a 92128 -> 11942 rancho bernardo rd #a 92128\n",
    "    .replace({\"address\": r\"\\s(dr dr)\\s\"}, {\"address\": \" dr \"}, regex=True) # dr dr -> dr\n",
    "    .replace({\"address\": r\"\\s(ave ave)\\s\"}, {\"address\": \" ave \"}, regex=True) # ave ave -> ave\n",
    "    .replace({\"address\": r\"\\s(way way)\\s\"}, {\"address\": \" way \"}, regex=True) # way way -> way\n",
    "    .replace({\"address\": r\"\\s(drive)\\s\"}, {\"address\": \" dr \"}, regex=True) # 11942 rancho bernardo drive #a 92128 -> 11942 rancho bernardo dr #a 92128\n",
    "    .replace({\"address\": r\"^\\d+\\s(?=\\d{3,}\\s)\"}, {\"address\": \"\"}, regex=True) # 11777 11777 kismet rd 92128 -> 11777 kismet rd 92128\n",
    "    .replace({\"address\": r\"\\.\"}, {\"address\": \"\"}, regex=True) # .\n",
    ")\n",
    "\n",
    "# 7185 calabria court ct #b 92122\n"
   ]
  },
  {
   "cell_type": "code",
   "execution_count": 98,
   "metadata": {},
   "outputs": [],
   "source": [
    "# remove leading and trailing whitespaces\n",
    "dfa['address'] = dfa['address'].str.strip()\n",
    "dfb['parsed_address'] = dfb['parsed_address'].str.strip()"
   ]
  },
  {
   "cell_type": "code",
   "execution_count": 99,
   "metadata": {},
   "outputs": [
    {
     "name": "stdout",
     "output_type": "stream",
     "text": [
      "[Errno 17] File exists: '/home/lakril/Deckard/funzzy-string-match-address/fuzzy_string_matching/storage'\n"
     ]
    }
   ],
   "source": [
    "# mkdir storage\n",
    "path = os.getcwd() + \"/storage\"\n",
    "\n",
    "\n",
    "def validate_and_make_folder(folder):\n",
    "    \"\"\"validates folders in working directory\"\"\"\n",
    "    try:\n",
    "        isDir = os.path.isdir(folder) == False\n",
    "        path = os.getcwd() + \"/storage\"\n",
    "        os.mkdir(path)\n",
    "        print(\"New folder create:\" + path)\n",
    "    except Exception as e:\n",
    "        print(e)\n",
    "        return None\n",
    "\n",
    "\n",
    "validate_and_make_folder(path)"
   ]
  },
  {
   "cell_type": "code",
   "execution_count": 100,
   "metadata": {},
   "outputs": [],
   "source": [
    "# absolute path\n",
    "FOLDER_STORAGE = os.path.abspath('storage/')"
   ]
  },
  {
   "cell_type": "code",
   "execution_count": 101,
   "metadata": {},
   "outputs": [],
   "source": [
    "# export file\n",
    "dfa.to_csv(os.path.join(FOLDER_STORAGE, r'licenses.csv'), index=False)\n",
    "dfb.to_csv(os.path.join(FOLDER_STORAGE, r'apn-data.csv'), index=False)"
   ]
  },
  {
   "attachments": {},
   "cell_type": "markdown",
   "metadata": {},
   "source": [
    "## Comparing and Merge"
   ]
  },
  {
   "cell_type": "code",
   "execution_count": 102,
   "metadata": {},
   "outputs": [],
   "source": [
    "import fuzzymatcher"
   ]
  },
  {
   "cell_type": "code",
   "execution_count": 103,
   "metadata": {},
   "outputs": [],
   "source": [
    "# Import the transform data as data frames\n",
    "licenses = pd.read_csv(FOLDER_STORAGE + \"/licenses.csv\")\n",
    "apn_data = pd.read_csv(FOLDER_STORAGE + \"/apn-data.csv\")"
   ]
  },
  {
   "cell_type": "code",
   "execution_count": 104,
   "metadata": {},
   "outputs": [
    {
     "name": "stdout",
     "output_type": "stream",
     "text": [
      "csv: licenses of client\n",
      "Total row:\t 7249 \n",
      "Total colums:\t 2\n",
      "\n",
      "csv: apn-data with suggestion apn by No license\n",
      "Total row:\t 36889 \n",
      "Total colums:\t 3\n"
     ]
    }
   ],
   "source": [
    "# total rows and columns\n",
    "row, col = licenses.shape\n",
    "print('csv: licenses of client\\nTotal row:\\t {} \\nTotal colums:\\t {}'.format(row, col))\n",
    "\n",
    "row, col = apn_data.shape\n",
    "print('\\ncsv: apn-data with suggestion apn by No license\\nTotal row:\\t {} \\nTotal colums:\\t {}'.format(row, col))"
   ]
  },
  {
   "cell_type": "code",
   "execution_count": 105,
   "metadata": {},
   "outputs": [],
   "source": [
    "# column level names to join\n",
    "left_on = [\"address\"] # licenses data\n",
    "right_on = [\"parsed_address\"] # apn data"
   ]
  },
  {
   "cell_type": "code",
   "execution_count": 106,
   "metadata": {},
   "outputs": [],
   "source": [
    "# Compute Similarity\n",
    "matched_results = fuzzymatcher.fuzzy_left_join(licenses,\n",
    "                                               apn_data,\n",
    "                                               left_on,\n",
    "                                               right_on,\n",
    "                                               left_id_col='license_id',\n",
    "                                               right_id_col='permit')"
   ]
  },
  {
   "attachments": {},
   "cell_type": "markdown",
   "metadata": {},
   "source": [
    "### Match table to show the similarity scores:"
   ]
  },
  {
   "cell_type": "code",
   "execution_count": 107,
   "metadata": {},
   "outputs": [
    {
     "data": {
      "text/html": [
       "<div>\n",
       "<style scoped>\n",
       "    .dataframe tbody tr th:only-of-type {\n",
       "        vertical-align: middle;\n",
       "    }\n",
       "\n",
       "    .dataframe tbody tr th {\n",
       "        vertical-align: top;\n",
       "    }\n",
       "\n",
       "    .dataframe thead th {\n",
       "        text-align: right;\n",
       "    }\n",
       "</style>\n",
       "<table border=\"1\" class=\"dataframe\">\n",
       "  <thead>\n",
       "    <tr style=\"text-align: right;\">\n",
       "      <th></th>\n",
       "      <th>best_match_score</th>\n",
       "      <th>__id_left</th>\n",
       "      <th>__id_right</th>\n",
       "      <th>license_id</th>\n",
       "      <th>address</th>\n",
       "      <th>permit</th>\n",
       "      <th>apn</th>\n",
       "      <th>parsed_address</th>\n",
       "    </tr>\n",
       "  </thead>\n",
       "  <tbody>\n",
       "    <tr>\n",
       "      <th>853015</th>\n",
       "      <td>1.250068</td>\n",
       "      <td>str-05286l</td>\n",
       "      <td>str-05286l</td>\n",
       "      <td>str-05286l</td>\n",
       "      <td>2908 lucia jade loop 92139</td>\n",
       "      <td>str-05286l</td>\n",
       "      <td>5913320300</td>\n",
       "      <td>2908 lucia jade loop 92139</td>\n",
       "    </tr>\n",
       "    <tr>\n",
       "      <th>1201702</th>\n",
       "      <td>1.158014</td>\n",
       "      <td>str-07854l</td>\n",
       "      <td>str-07854l</td>\n",
       "      <td>str-07854l</td>\n",
       "      <td>10510 corte jardin del mar 92130</td>\n",
       "      <td>str-07854l</td>\n",
       "      <td>3076400800</td>\n",
       "      <td>10510 corte jardin del mar 92130</td>\n",
       "    </tr>\n",
       "    <tr>\n",
       "      <th>74258</th>\n",
       "      <td>1.136083</td>\n",
       "      <td>str-02692l</td>\n",
       "      <td>str-02692l</td>\n",
       "      <td>str-02692l</td>\n",
       "      <td>12811 calle de las rosas 92129</td>\n",
       "      <td>str-02692l</td>\n",
       "      <td>3154213600</td>\n",
       "      <td>12811 calle de las rosas 92129</td>\n",
       "    </tr>\n",
       "  </tbody>\n",
       "</table>\n",
       "</div>"
      ],
      "text/plain": [
       "         best_match_score   __id_left  __id_right  license_id  \\\n",
       "853015           1.250068  str-05286l  str-05286l  str-05286l   \n",
       "1201702          1.158014  str-07854l  str-07854l  str-07854l   \n",
       "74258            1.136083  str-02692l  str-02692l  str-02692l   \n",
       "\n",
       "                                  address      permit         apn  \\\n",
       "853015         2908 lucia jade loop 92139  str-05286l  5913320300   \n",
       "1201702  10510 corte jardin del mar 92130  str-07854l  3076400800   \n",
       "74258      12811 calle de las rosas 92129  str-02692l  3154213600   \n",
       "\n",
       "                           parsed_address  \n",
       "853015         2908 lucia jade loop 92139  \n",
       "1201702  10510 corte jardin del mar 92130  \n",
       "74258      12811 calle de las rosas 92129  "
      ]
     },
     "execution_count": 107,
     "metadata": {},
     "output_type": "execute_result"
    }
   ],
   "source": [
    "matched_results.sort_values(by=['best_match_score'], ascending=False).head(3)"
   ]
  },
  {
   "cell_type": "code",
   "execution_count": 108,
   "metadata": {},
   "outputs": [
    {
     "data": {
      "text/html": [
       "<div>\n",
       "<style scoped>\n",
       "    .dataframe tbody tr th:only-of-type {\n",
       "        vertical-align: middle;\n",
       "    }\n",
       "\n",
       "    .dataframe tbody tr th {\n",
       "        vertical-align: top;\n",
       "    }\n",
       "\n",
       "    .dataframe thead th {\n",
       "        text-align: right;\n",
       "    }\n",
       "</style>\n",
       "<table border=\"1\" class=\"dataframe\">\n",
       "  <thead>\n",
       "    <tr style=\"text-align: right;\">\n",
       "      <th></th>\n",
       "      <th>best_match_score</th>\n",
       "      <th>__id_left</th>\n",
       "      <th>__id_right</th>\n",
       "      <th>license_id</th>\n",
       "      <th>address</th>\n",
       "      <th>permit</th>\n",
       "      <th>apn</th>\n",
       "      <th>parsed_address</th>\n",
       "    </tr>\n",
       "  </thead>\n",
       "  <tbody>\n",
       "    <tr>\n",
       "      <th>709222</th>\n",
       "      <td>-0.675630</td>\n",
       "      <td>str-06705l</td>\n",
       "      <td>str-01686l</td>\n",
       "      <td>str-06705l</td>\n",
       "      <td>6140 galante place 92130</td>\n",
       "      <td>str-01686l</td>\n",
       "      <td>3043700600</td>\n",
       "      <td>4855 alberson court 92130</td>\n",
       "    </tr>\n",
       "    <tr>\n",
       "      <th>1220240</th>\n",
       "      <td>-0.585137</td>\n",
       "      <td>str-07383l</td>\n",
       "      <td>str-01128l</td>\n",
       "      <td>str-07383l</td>\n",
       "      <td>8430 via sonoma #no.50 92037</td>\n",
       "      <td>str-01128l</td>\n",
       "      <td>3467610400</td>\n",
       "      <td>8425 n la jolla scenic dr 92037</td>\n",
       "    </tr>\n",
       "    <tr>\n",
       "      <th>934375</th>\n",
       "      <td>-0.534950</td>\n",
       "      <td>str-06318l</td>\n",
       "      <td>str-00839l</td>\n",
       "      <td>str-06318l</td>\n",
       "      <td>4120 porte de merano #82 92122</td>\n",
       "      <td>str-00839l</td>\n",
       "      <td>3011220200</td>\n",
       "      <td>2583 via merano 92014</td>\n",
       "    </tr>\n",
       "  </tbody>\n",
       "</table>\n",
       "</div>"
      ],
      "text/plain": [
       "         best_match_score   __id_left  __id_right  license_id  \\\n",
       "709222          -0.675630  str-06705l  str-01686l  str-06705l   \n",
       "1220240         -0.585137  str-07383l  str-01128l  str-07383l   \n",
       "934375          -0.534950  str-06318l  str-00839l  str-06318l   \n",
       "\n",
       "                                address      permit         apn  \\\n",
       "709222         6140 galante place 92130  str-01686l  3043700600   \n",
       "1220240    8430 via sonoma #no.50 92037  str-01128l  3467610400   \n",
       "934375   4120 porte de merano #82 92122  str-00839l  3011220200   \n",
       "\n",
       "                          parsed_address  \n",
       "709222         4855 alberson court 92130  \n",
       "1220240  8425 n la jolla scenic dr 92037  \n",
       "934375             2583 via merano 92014  "
      ]
     },
     "execution_count": 108,
     "metadata": {},
     "output_type": "execute_result"
    }
   ],
   "source": [
    "matched_results.sort_values(by=['best_match_score'], ascending=True).head(3)"
   ]
  },
  {
   "cell_type": "code",
   "execution_count": 109,
   "metadata": {},
   "outputs": [],
   "source": [
    "result = matched_results.query(\"best_match_score <= .80\").sort_values(\n",
    "    by=['best_match_score'], ascending=False)"
   ]
  },
  {
   "cell_type": "code",
   "execution_count": 110,
   "metadata": {},
   "outputs": [
    {
     "name": "stdout",
     "output_type": "stream",
     "text": [
      "result: fuzzy matches\n",
      "Total row:\t 32501 \n",
      "Total colums:\t 8\n",
      "\n",
      "Column names: ['best_match_score', '__id_left', '__id_right', 'license_id', 'address', 'permit', 'apn', 'parsed_address'] \n",
      " \n"
     ]
    }
   ],
   "source": [
    "# total rows and columns\n",
    "row, col = result.shape\n",
    "print('result: fuzzy matches\\nTotal row:\\t {} \\nTotal colums:\\t {}'.format(row, col))\n",
    "\n",
    "# Column Names, missing values and memory usage\n",
    "name_col = result.columns.values.tolist()\n",
    "print('\\nColumn names: {} \\n '.format(name_col))"
   ]
  },
  {
   "cell_type": "code",
   "execution_count": 111,
   "metadata": {},
   "outputs": [],
   "source": [
    "# match\n",
    "def match(row):\n",
    "    match = 0\n",
    "    if (row['__id_left'] == row['__id_right']) and (row['address'] == row['parsed_address']):\n",
    "        match = True\n",
    "    else:\n",
    "        total = False\n",
    "    return match"
   ]
  },
  {
   "cell_type": "code",
   "execution_count": 112,
   "metadata": {},
   "outputs": [],
   "source": [
    "result[\"full_match\"] = result.apply(match, axis=1)"
   ]
  },
  {
   "cell_type": "code",
   "execution_count": 113,
   "metadata": {},
   "outputs": [
    {
     "name": "stdout",
     "output_type": "stream",
     "text": [
      "Full match license No & address:\n",
      "Total row:\t 3251 \n",
      "Total colums:\t 9\n"
     ]
    }
   ],
   "source": [
    "# filter full match\n",
    "full_match_true = result[result['full_match']== True]\n",
    "full_match_true\n",
    "\n",
    "# total rows and columns\n",
    "row, col = full_match_true.shape\n",
    "print('Full match license No & address:\\nTotal row:\\t {} \\nTotal colums:\\t {}'.format(row, col))"
   ]
  },
  {
   "cell_type": "code",
   "execution_count": 114,
   "metadata": {},
   "outputs": [],
   "source": [
    "# export file\n",
    "result.to_csv(os.path.join(FOLDER_STORAGE, r'fuzzymatcher.csv'), index=False)"
   ]
  }
 ],
 "metadata": {
  "kernelspec": {
   "display_name": "deckard",
   "language": "python",
   "name": "python3"
  },
  "language_info": {
   "codemirror_mode": {
    "name": "ipython",
    "version": 3
   },
   "file_extension": ".py",
   "mimetype": "text/x-python",
   "name": "python",
   "nbconvert_exporter": "python",
   "pygments_lexer": "ipython3",
   "version": "3.11.3"
  },
  "orig_nbformat": 4
 },
 "nbformat": 4,
 "nbformat_minor": 2
}
