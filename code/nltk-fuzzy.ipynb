{
 "cells": [
  {
   "cell_type": "code",
   "execution_count": 14,
   "metadata": {},
   "outputs": [],
   "source": [
    "import numpy as np\n",
    "import pandas as pd\n",
    "import openpyxl\n",
    "import random\n",
    "import gc\n",
    "import timeit\n",
    "import sys\n",
    "from datetime import datetime as dt\n",
    "import os\n",
    "\n",
    "from sklearn.feature_extraction.text import TfidfVectorizer"
   ]
  },
  {
   "cell_type": "code",
   "execution_count": 15,
   "metadata": {},
   "outputs": [
    {
     "data": {
      "text/plain": [
       "['stro_licenses_datasd-san-diego', 'geo-data', 'data-apn']"
      ]
     },
     "execution_count": 15,
     "metadata": {},
     "output_type": "execute_result"
    }
   ],
   "source": [
    "filename = \"../stro_licenses_datasd-san-diego.xlsx\"\n",
    "\n",
    "\n",
    "def get_sheet_names(excel_file):\n",
    "    \"\"\"Get the sheet names from an Excel file.\n",
    "\n",
    "    Args:\n",
    "      excel_file: The path to the Excel file.\n",
    "\n",
    "    Returns:\n",
    "      A list of sheet names.\n",
    "    \"\"\"\n",
    "\n",
    "    workbook = openpyxl.load_workbook(excel_file)\n",
    "    sheet_names = workbook.sheetnames\n",
    "    return sheet_names\n",
    "\n",
    "get_sheet_names(filename)"
   ]
  },
  {
   "cell_type": "code",
   "execution_count": 16,
   "metadata": {},
   "outputs": [],
   "source": [
    "sheet_name = get_sheet_names(filename)\n",
    "dfa = pd.read_excel(filename, sheet_name=sheet_name[0], usecols=[0, 1], header=0)\n",
    "dfb = pd.read_excel(filename, sheet_name=sheet_name[2])"
   ]
  },
  {
   "cell_type": "code",
   "execution_count": 17,
   "metadata": {},
   "outputs": [
    {
     "data": {
      "text/html": [
       "<div>\n",
       "<style scoped>\n",
       "    .dataframe tbody tr th:only-of-type {\n",
       "        vertical-align: middle;\n",
       "    }\n",
       "\n",
       "    .dataframe tbody tr th {\n",
       "        vertical-align: top;\n",
       "    }\n",
       "\n",
       "    .dataframe thead th {\n",
       "        text-align: right;\n",
       "    }\n",
       "</style>\n",
       "<table border=\"1\" class=\"dataframe\">\n",
       "  <thead>\n",
       "    <tr style=\"text-align: right;\">\n",
       "      <th></th>\n",
       "      <th>license_id</th>\n",
       "      <th>address</th>\n",
       "    </tr>\n",
       "  </thead>\n",
       "  <tbody>\n",
       "    <tr>\n",
       "      <th>0</th>\n",
       "      <td>STR-01686L</td>\n",
       "      <td>4855 ALBERSON Ct, SAN DIEGO, CA 92130</td>\n",
       "    </tr>\n",
       "    <tr>\n",
       "      <th>1</th>\n",
       "      <td>STR-01757L</td>\n",
       "      <td>2028 30th St, San Diego, CA 92104</td>\n",
       "    </tr>\n",
       "    <tr>\n",
       "      <th>2</th>\n",
       "      <td>STR-05313L</td>\n",
       "      <td>5145 COBAN St, SAN DIEGO, CA 92114</td>\n",
       "    </tr>\n",
       "    <tr>\n",
       "      <th>3</th>\n",
       "      <td>STR-01505L</td>\n",
       "      <td>3327 32nd St, San Diego, CA 92104</td>\n",
       "    </tr>\n",
       "    <tr>\n",
       "      <th>4</th>\n",
       "      <td>STR-04720L</td>\n",
       "      <td>1305 Elevation Rd, San Diego, CA 92110</td>\n",
       "    </tr>\n",
       "  </tbody>\n",
       "</table>\n",
       "</div>"
      ],
      "text/plain": [
       "   license_id                                 address\n",
       "0  STR-01686L   4855 ALBERSON Ct, SAN DIEGO, CA 92130\n",
       "1  STR-01757L       2028 30th St, San Diego, CA 92104\n",
       "2  STR-05313L      5145 COBAN St, SAN DIEGO, CA 92114\n",
       "3  STR-01505L       3327 32nd St, San Diego, CA 92104\n",
       "4  STR-04720L  1305 Elevation Rd, San Diego, CA 92110"
      ]
     },
     "execution_count": 17,
     "metadata": {},
     "output_type": "execute_result"
    }
   ],
   "source": [
    "dfa.head()"
   ]
  },
  {
   "cell_type": "code",
   "execution_count": 18,
   "metadata": {},
   "outputs": [
    {
     "data": {
      "text/html": [
       "<div>\n",
       "<style scoped>\n",
       "    .dataframe tbody tr th:only-of-type {\n",
       "        vertical-align: middle;\n",
       "    }\n",
       "\n",
       "    .dataframe tbody tr th {\n",
       "        vertical-align: top;\n",
       "    }\n",
       "\n",
       "    .dataframe thead th {\n",
       "        text-align: right;\n",
       "    }\n",
       "</style>\n",
       "<table border=\"1\" class=\"dataframe\">\n",
       "  <thead>\n",
       "    <tr style=\"text-align: right;\">\n",
       "      <th></th>\n",
       "      <th>permit</th>\n",
       "      <th>apn</th>\n",
       "      <th>parsed_address</th>\n",
       "    </tr>\n",
       "  </thead>\n",
       "  <tbody>\n",
       "    <tr>\n",
       "      <th>0</th>\n",
       "      <td>STR-02005L</td>\n",
       "      <td>4303703300</td>\n",
       "      <td>2070 ILLION ST 92110</td>\n",
       "    </tr>\n",
       "    <tr>\n",
       "      <th>1</th>\n",
       "      <td>STR-02053L</td>\n",
       "      <td>4495820800</td>\n",
       "      <td>3611 QUIMBY ST 92106</td>\n",
       "    </tr>\n",
       "    <tr>\n",
       "      <th>2</th>\n",
       "      <td>STR-00324L</td>\n",
       "      <td>4236032300</td>\n",
       "      <td>3625 MISSION BLVD 92109</td>\n",
       "    </tr>\n",
       "    <tr>\n",
       "      <th>3</th>\n",
       "      <td>STR-03878L</td>\n",
       "      <td>4153812100</td>\n",
       "      <td>4928 CRYSTAL DR 92109</td>\n",
       "    </tr>\n",
       "    <tr>\n",
       "      <th>4</th>\n",
       "      <td>STR-01256L</td>\n",
       "      <td>4237120402</td>\n",
       "      <td>729 SAN GABRIEL PL 92109</td>\n",
       "    </tr>\n",
       "  </tbody>\n",
       "</table>\n",
       "</div>"
      ],
      "text/plain": [
       "       permit         apn            parsed_address\n",
       "0  STR-02005L  4303703300      2070 ILLION ST 92110\n",
       "1  STR-02053L  4495820800      3611 QUIMBY ST 92106\n",
       "2  STR-00324L  4236032300   3625 MISSION BLVD 92109\n",
       "3  STR-03878L  4153812100     4928 CRYSTAL DR 92109\n",
       "4  STR-01256L  4237120402  729 SAN GABRIEL PL 92109"
      ]
     },
     "execution_count": 18,
     "metadata": {},
     "output_type": "execute_result"
    }
   ],
   "source": [
    "dfb.head()\n"
   ]
  },
  {
   "attachments": {},
   "cell_type": "markdown",
   "metadata": {},
   "source": [
    "## Data Cleaning:"
   ]
  },
  {
   "cell_type": "code",
   "execution_count": 19,
   "metadata": {},
   "outputs": [
    {
     "data": {
      "text/plain": [
       "license_id    0\n",
       "address       4\n",
       "dtype: int64"
      ]
     },
     "execution_count": 19,
     "metadata": {},
     "output_type": "execute_result"
    }
   ],
   "source": [
    "# count nan values in columns\n",
    "dfa.isnull().sum()"
   ]
  },
  {
   "cell_type": "code",
   "execution_count": 20,
   "metadata": {},
   "outputs": [],
   "source": [
    "# count nan values in columns\n",
    "dfa.isnull().sum()\n",
    "\n",
    "# Drop rows where specific column values are null / address == null\n",
    "dfa = dfa.dropna(subset=[\"address\"])"
   ]
  },
  {
   "attachments": {},
   "cell_type": "markdown",
   "metadata": {},
   "source": [
    "#### Clean B"
   ]
  },
  {
   "cell_type": "code",
   "execution_count": 21,
   "metadata": {},
   "outputs": [],
   "source": [
    "# Filtering dataframe column elements by different dtypes \n",
    "m = dfb['parsed_address'].apply(type) == int\n",
    "dfb = dfb[~m]\n",
    "dfb = dfb[~dfb['parsed_address'].str.startswith('#')]\n",
    "dfb = dfb[~dfb['parsed_address'].str.contains('NONE')]"
   ]
  },
  {
   "attachments": {},
   "cell_type": "markdown",
   "metadata": {},
   "source": [
    "### Normalize strings address dataframe dfa"
   ]
  },
  {
   "cell_type": "code",
   "execution_count": 22,
   "metadata": {},
   "outputs": [],
   "source": [
    "# Convert Pandas Uppercase Column\n",
    "dfa = dfa.apply(lambda x: x.astype(str).str.lower())\n",
    "dfb = dfb.apply(lambda x: x.astype(str).str.lower())"
   ]
  },
  {
   "cell_type": "code",
   "execution_count": 23,
   "metadata": {},
   "outputs": [],
   "source": [
    "# remove extra whitspace, special characters, , #UNIT -> #, #04 -> #4, etc\n",
    "dfa = (\n",
    "    dfa.replace({\"address\": r\"\\s+\"}, {\"address\": \" \"}, regex=True) # remove multiple spaces\n",
    "    .replace({\"address\": r\"\\,\\s\\w+\\s\\w+(\\s,\\s|,\\s)\\w+\\s\"}, {\"address\": \" \"}, regex=True) # \", SAN DIEGO, CA\"  --> \" \"\n",
    "    .replace({\"address\": r\"\\,\\s\\w+(\\s,\\s|,\\s)\\w+\\s\"}, {\"address\": \" \"}, regex=True)\n",
    "    .replace({\"address\": r\"(\\,\\s|\\s\\,)\"}, {\"address\": \" \"}, regex=True)\n",
    "    .replace({\"address\": r\"\\s(wk)\\s\"}, {\"address\": \" walk \"}, regex=True)\n",
    "    .replace({\"address\": r\"\\s(bl)\\s\"}, {\"address\": \" blvd \"}, regex=True)\n",
    "    .replace({\"address\": r\"\\s(ct)\\s\"}, {\"address\": \" court \"}, regex=True)\n",
    "    .replace({\"address\": r\"\\s(tr)\\s\"}, {\"address\": \" trails \"}, regex=True)\n",
    "    .replace({\"address\": r\"\\s(avenue)\\s\"}, {\"address\": \" ave \"}, regex=True)\n",
    "    .replace({\"address\": r\"\\s(terrance)\\s\"}, {\"address\": \" ter \"}, regex=True)\n",
    "    .replace({\"address\": r\"\\s(av)\\s\"}, {\"address\": \" ave \"}, regex=True)\n",
    "    .replace({\"address\": r\"\\s#unit\\s\"}, {\"address\": \" #\"}, regex=True) #UNIT -> #\n",
    "    .replace({\"address\": r\"\\s#0\"}, {\"address\": \" #\"}, regex=True) #04 -> #4\n",
    ")"
   ]
  },
  {
   "cell_type": "code",
   "execution_count": 24,
   "metadata": {},
   "outputs": [],
   "source": [
    "# remove leading and trailing whitespaces\n",
    "dfa['address'] = dfa['address'].str.strip()\n",
    "dfb['parsed_address'] = dfb['parsed_address'].str.strip()"
   ]
  },
  {
   "cell_type": "code",
   "execution_count": 12,
   "metadata": {},
   "outputs": [],
   "source": [
    "# absolute path\n",
    "FOLDER_DEST = os.path.abspath('../storage/')"
   ]
  },
  {
   "cell_type": "code",
   "execution_count": 13,
   "metadata": {},
   "outputs": [],
   "source": [
    "# export file\n",
    "dfa.to_csv(os.path.join(FOLDER_DEST, r'licenses.csv'), index=False)\n",
    "dfb.to_csv(os.path.join(FOLDER_DEST, r'apn-data.csv'), index=False)"
   ]
  },
  {
   "attachments": {},
   "cell_type": "markdown",
   "metadata": {},
   "source": [
    "## Machine learning"
   ]
  },
  {
   "cell_type": "code",
   "execution_count": 322,
   "metadata": {},
   "outputs": [],
   "source": [
    "from sklearn.feature_extraction.text import TfidfVectorizer\n",
    "tfidf_vectorizer = TfidfVectorizer(ngram_range=(1,2), max_df=0.9, min_df=5, token_pattern='(\\S+)')\n",
    "tf_idf_matrix = tfidf_vectorizer.fit_transform(dfb['parsed_address'])\n",
    "#tf_idf_matrixB = tfidf_vectorizer.fit_transform(dfb['parsed_address'])"
   ]
  },
  {
   "attachments": {},
   "cell_type": "markdown",
   "metadata": {},
   "source": [
    "### Compute Cosine Similarity:"
   ]
  },
  {
   "cell_type": "code",
   "execution_count": 323,
   "metadata": {},
   "outputs": [
    {
     "name": "stdout",
     "output_type": "stream",
     "text": [
      "finished in: 1.520073652267456\n"
     ]
    }
   ],
   "source": [
    "from scipy.sparse import csr_matrix\n",
    "import sparse_dot_topn.sparse_dot_topn as ct\n",
    "\n",
    "def awesome_cossim_top(A, B, ntop, lower_bound=0):\n",
    "    # force A and B as a CSR matrix.\n",
    "    # If they have already been CSR, there is no overhead\n",
    "    A = A.tocsr()\n",
    "    B = B.tocsr()\n",
    "    M, _ = A.shape\n",
    "    _, N = B.shape\n",
    " \n",
    "    idx_dtype = np.int32\n",
    " \n",
    "    nnz_max = M*ntop\n",
    " \n",
    "    indptr = np.zeros(M+1, dtype=idx_dtype)\n",
    "    indices = np.zeros(nnz_max, dtype=idx_dtype)\n",
    "    data = np.zeros(nnz_max, dtype=A.dtype)\n",
    "    ct.sparse_dot_topn(\n",
    "            M, N, np.asarray(A.indptr, dtype=idx_dtype),\n",
    "            np.asarray(A.indices, dtype=idx_dtype),\n",
    "            A.data,\n",
    "            np.asarray(B.indptr, dtype=idx_dtype),\n",
    "            np.asarray(B.indices, dtype=idx_dtype),\n",
    "            B.data,\n",
    "            ntop,\n",
    "            lower_bound,\n",
    "            indptr, indices, data)\n",
    "    return csr_matrix((data,indices,indptr),shape=(M,N))\n",
    "\n",
    "\n",
    "import time\n",
    "t1 = time.time()\n",
    "\n",
    "# adjust lower bound: 0.8\n",
    "# keep top 10 similar results\n",
    "matches = awesome_cossim_top(tf_idf_matrix, tf_idf_matrix.transpose(), 10, 0.8)\n",
    "\n",
    "t = time.time()-t1\n",
    "print(\"finished in:\", t)"
   ]
  },
  {
   "cell_type": "code",
   "execution_count": 326,
   "metadata": {},
   "outputs": [],
   "source": [
    "#pd.DataFrame(matches.toarray())"
   ]
  },
  {
   "attachments": {},
   "cell_type": "markdown",
   "metadata": {},
   "source": [
    "### Create a match table to show the similarity scores:"
   ]
  },
  {
   "cell_type": "code",
   "execution_count": 341,
   "metadata": {},
   "outputs": [
    {
     "data": {
      "text/html": [
       "<div>\n",
       "<style scoped>\n",
       "    .dataframe tbody tr th:only-of-type {\n",
       "        vertical-align: middle;\n",
       "    }\n",
       "\n",
       "    .dataframe tbody tr th {\n",
       "        vertical-align: top;\n",
       "    }\n",
       "\n",
       "    .dataframe thead th {\n",
       "        text-align: right;\n",
       "    }\n",
       "</style>\n",
       "<table border=\"1\" class=\"dataframe\">\n",
       "  <thead>\n",
       "    <tr style=\"text-align: right;\">\n",
       "      <th></th>\n",
       "      <th>ADDRESS</th>\n",
       "      <th>SIMILAR_TITLE</th>\n",
       "      <th>similairity_score</th>\n",
       "    </tr>\n",
       "  </thead>\n",
       "  <tbody>\n",
       "    <tr>\n",
       "      <th>957</th>\n",
       "      <td>2666 WORDEN ST #09 92110</td>\n",
       "      <td>2690 WORDEN ST #81 92110</td>\n",
       "      <td>0.853188</td>\n",
       "    </tr>\n",
       "    <tr>\n",
       "      <th>398</th>\n",
       "      <td>2666 WORDEN ST #14 92110</td>\n",
       "      <td>4082 VALETA ST #373 92110</td>\n",
       "      <td>0.853188</td>\n",
       "    </tr>\n",
       "    <tr>\n",
       "      <th>700</th>\n",
       "      <td>2654 WORDEN ST #94 92110</td>\n",
       "      <td>2690 WORDEN ST #79 92110</td>\n",
       "      <td>0.803388</td>\n",
       "    </tr>\n",
       "    <tr>\n",
       "      <th>951</th>\n",
       "      <td>2666 WORDEN ST #09 92110</td>\n",
       "      <td>4098 VALETA ST #388 92110</td>\n",
       "      <td>0.853188</td>\n",
       "    </tr>\n",
       "    <tr>\n",
       "      <th>280</th>\n",
       "      <td>2676 WORDEN ST #58 92110</td>\n",
       "      <td>2690 WORDEN ST #79 92110</td>\n",
       "      <td>0.803388</td>\n",
       "    </tr>\n",
       "    <tr>\n",
       "      <th>757</th>\n",
       "      <td>2676 WORDEN ST #63 92110</td>\n",
       "      <td>2640 WORDEN ST #208 92110</td>\n",
       "      <td>0.803388</td>\n",
       "    </tr>\n",
       "    <tr>\n",
       "      <th>748</th>\n",
       "      <td>2680 WORDEN ST #70 92110</td>\n",
       "      <td>2636 WORDEN ST #111 92110</td>\n",
       "      <td>0.802877</td>\n",
       "    </tr>\n",
       "    <tr>\n",
       "      <th>902</th>\n",
       "      <td>2680 WORDEN ST #75 92110</td>\n",
       "      <td>2624 WORDEN ST #181 92110</td>\n",
       "      <td>0.808260</td>\n",
       "    </tr>\n",
       "    <tr>\n",
       "      <th>897</th>\n",
       "      <td>2636 WORDEN ST #132 92110</td>\n",
       "      <td>2636 WORDEN ST #108 92110</td>\n",
       "      <td>0.808260</td>\n",
       "    </tr>\n",
       "    <tr>\n",
       "      <th>695</th>\n",
       "      <td>2654 WORDEN ST #94 92110</td>\n",
       "      <td>2680 WORDEN ST #67 92110</td>\n",
       "      <td>0.803388</td>\n",
       "    </tr>\n",
       "  </tbody>\n",
       "</table>\n",
       "</div>"
      ],
      "text/plain": [
       "                       ADDRESS              SIMILAR_TITLE  similairity_score\n",
       "957   2666 WORDEN ST #09 92110   2690 WORDEN ST #81 92110           0.853188\n",
       "398   2666 WORDEN ST #14 92110  4082 VALETA ST #373 92110           0.853188\n",
       "700   2654 WORDEN ST #94 92110   2690 WORDEN ST #79 92110           0.803388\n",
       "951   2666 WORDEN ST #09 92110  4098 VALETA ST #388 92110           0.853188\n",
       "280   2676 WORDEN ST #58 92110   2690 WORDEN ST #79 92110           0.803388\n",
       "757   2676 WORDEN ST #63 92110  2640 WORDEN ST #208 92110           0.803388\n",
       "748   2680 WORDEN ST #70 92110  2636 WORDEN ST #111 92110           0.802877\n",
       "902   2680 WORDEN ST #75 92110  2624 WORDEN ST #181 92110           0.808260\n",
       "897  2636 WORDEN ST #132 92110  2636 WORDEN ST #108 92110           0.808260\n",
       "695   2654 WORDEN ST #94 92110   2680 WORDEN ST #67 92110           0.803388"
      ]
     },
     "execution_count": 341,
     "metadata": {},
     "output_type": "execute_result"
    }
   ],
   "source": [
    "def get_matches_df(sparse_matrix, name_vector, top=100):\n",
    "    non_zeros = sparse_matrix.nonzero()\n",
    "    \n",
    "    sparserows = non_zeros[0]\n",
    "    sparsecols = non_zeros[1]\n",
    "    \n",
    "    if top:\n",
    "        nr_matches = top\n",
    "    else:\n",
    "        nr_matches = sparsecols.size\n",
    "    \n",
    "    left_side = np.empty([nr_matches], dtype=object)\n",
    "    right_side = np.empty([nr_matches], dtype=object)\n",
    "    similairity = np.zeros(nr_matches)\n",
    "    \n",
    "    for index in range(0, nr_matches):\n",
    "        left_side[index] = name_vector[sparserows[index]]\n",
    "        right_side[index] = name_vector[sparsecols[index]]\n",
    "        similairity[index] = sparse_matrix.data[index]\n",
    "    \n",
    "    return pd.DataFrame({'ADDRESS': left_side,\n",
    "                         'SIMILAR_TITLE': right_side,\n",
    "                         'similairity_score': similairity})\n",
    "\n",
    "\n",
    "matches_df = pd.DataFrame()\n",
    "matches_df = get_matches_df(matches, dfb['parsed_address'], top=1000)\n",
    "# Remove all exact matches\n",
    "matches_df = matches_df[matches_df['similairity_score'] < 0.99999] \n",
    "matches_df.sample(10)"
   ]
  },
  {
   "cell_type": "code",
   "execution_count": 339,
   "metadata": {},
   "outputs": [
    {
     "data": {
      "text/plain": [
       "pandas.core.series.Series"
      ]
     },
     "execution_count": 339,
     "metadata": {},
     "output_type": "execute_result"
    }
   ],
   "source": [
    "type(dfb['parsed_address'])\n"
   ]
  },
  {
   "cell_type": "code",
   "execution_count": 340,
   "metadata": {},
   "outputs": [
    {
     "data": {
      "text/plain": [
       "0                4855 ALBERSON Ct, SAN DIEGO, CA 92130\n",
       "1                    2028 30th St, San Diego, CA 92104\n",
       "2                   5145 COBAN St, SAN DIEGO, CA 92114\n",
       "3                    3327 32nd St, San Diego, CA 92104\n",
       "4               1305 Elevation Rd, San Diego, CA 92110\n",
       "                             ...                      \n",
       "7248                 3232 39th St, san diego, CA 92105\n",
       "7249          4767 OCEAN Bl, #204, SAN DIEGO, CA 92109\n",
       "7250             2620 WIGHTMAN St, SAN DIEGO, CA 92104\n",
       "7251    2183 S AVENIDA DE LA PLAYA, LA JOLLA, CA 92037\n",
       "7252     4855 NARRAGANSETT Av, #A, SAN DIEGO, CA 92107\n",
       "Name: address, Length: 7253, dtype: object"
      ]
     },
     "execution_count": 340,
     "metadata": {},
     "output_type": "execute_result"
    }
   ],
   "source": [
    "dfa['address']"
   ]
  },
  {
   "cell_type": "code",
   "execution_count": 343,
   "metadata": {},
   "outputs": [
    {
     "data": {
      "text/html": [
       "<div>\n",
       "<style scoped>\n",
       "    .dataframe tbody tr th:only-of-type {\n",
       "        vertical-align: middle;\n",
       "    }\n",
       "\n",
       "    .dataframe tbody tr th {\n",
       "        vertical-align: top;\n",
       "    }\n",
       "\n",
       "    .dataframe thead th {\n",
       "        text-align: right;\n",
       "    }\n",
       "</style>\n",
       "<table border=\"1\" class=\"dataframe\">\n",
       "  <thead>\n",
       "    <tr style=\"text-align: right;\">\n",
       "      <th></th>\n",
       "      <th>ADDRESS</th>\n",
       "      <th>SIMILAR_TITLE</th>\n",
       "      <th>similairity_score</th>\n",
       "    </tr>\n",
       "  </thead>\n",
       "  <tbody>\n",
       "    <tr>\n",
       "      <th>49</th>\n",
       "      <td>604 S EVANS ST 92113</td>\n",
       "      <td>3888 RIVIERA DR #205 92109</td>\n",
       "      <td>0.946800</td>\n",
       "    </tr>\n",
       "    <tr>\n",
       "      <th>50</th>\n",
       "      <td>604 S EVANS ST 92113</td>\n",
       "      <td>530 K ST #314 92101</td>\n",
       "      <td>0.927282</td>\n",
       "    </tr>\n",
       "    <tr>\n",
       "      <th>60</th>\n",
       "      <td>3806 ARIZONA ST 92104</td>\n",
       "      <td>3020 ALTA VIEW DR #E202 92139</td>\n",
       "      <td>0.891226</td>\n",
       "    </tr>\n",
       "    <tr>\n",
       "      <th>612</th>\n",
       "      <td>4082 VALETA ST #370 92110</td>\n",
       "      <td>2666 WORDEN ST #01 92110</td>\n",
       "      <td>0.856423</td>\n",
       "    </tr>\n",
       "    <tr>\n",
       "      <th>613</th>\n",
       "      <td>4082 VALETA ST #370 92110</td>\n",
       "      <td>4082 VALETA ST #373 92110</td>\n",
       "      <td>0.856423</td>\n",
       "    </tr>\n",
       "  </tbody>\n",
       "</table>\n",
       "</div>"
      ],
      "text/plain": [
       "                       ADDRESS                  SIMILAR_TITLE  \\\n",
       "49        604 S EVANS ST 92113     3888 RIVIERA DR #205 92109   \n",
       "50        604 S EVANS ST 92113            530 K ST #314 92101   \n",
       "60       3806 ARIZONA ST 92104  3020 ALTA VIEW DR #E202 92139   \n",
       "612  4082 VALETA ST #370 92110       2666 WORDEN ST #01 92110   \n",
       "613  4082 VALETA ST #370 92110      4082 VALETA ST #373 92110   \n",
       "\n",
       "     similairity_score  \n",
       "49            0.946800  \n",
       "50            0.927282  \n",
       "60            0.891226  \n",
       "612           0.856423  \n",
       "613           0.856423  "
      ]
     },
     "execution_count": 343,
     "metadata": {},
     "output_type": "execute_result"
    }
   ],
   "source": [
    "matches_df.sort_values(['similairity_score'], ascending=False).head()"
   ]
  },
  {
   "cell_type": "code",
   "execution_count": null,
   "metadata": {},
   "outputs": [],
   "source": [
    "dfa[]"
   ]
  }
 ],
 "metadata": {
  "kernelspec": {
   "display_name": "deckard",
   "language": "python",
   "name": "python3"
  },
  "language_info": {
   "codemirror_mode": {
    "name": "ipython",
    "version": 3
   },
   "file_extension": ".py",
   "mimetype": "text/x-python",
   "name": "python",
   "nbconvert_exporter": "python",
   "pygments_lexer": "ipython3",
   "version": "3.11.3"
  },
  "orig_nbformat": 4
 },
 "nbformat": 4,
 "nbformat_minor": 2
}
