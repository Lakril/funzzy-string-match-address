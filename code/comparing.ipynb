{
 "cells": [
  {
   "cell_type": "code",
   "execution_count": 9,
   "metadata": {},
   "outputs": [],
   "source": [
    "import pandas as pd\n",
    "import os\n",
    "import fuzzymatcher"
   ]
  },
  {
   "cell_type": "code",
   "execution_count": 10,
   "metadata": {},
   "outputs": [],
   "source": [
    "# absolute path\n",
    "FOLDER_DEST = os.path.abspath(\"../storage/\")"
   ]
  },
  {
   "cell_type": "code",
   "execution_count": 11,
   "metadata": {},
   "outputs": [],
   "source": [
    "# Import the customers data as data frames\n",
    "licenses = pd.read_csv(FOLDER_DEST + \"/licenses.csv\")\n",
    "apn_data = pd.read_csv(FOLDER_DEST + \"/apn-data.csv\")"
   ]
  },
  {
   "cell_type": "code",
   "execution_count": 14,
   "metadata": {},
   "outputs": [
    {
     "name": "stdout",
     "output_type": "stream",
     "text": [
      "Index(['license_id', 'address'], dtype='object')\n",
      "Index(['permit', 'apn', 'parsed_address'], dtype='object')\n"
     ]
    }
   ],
   "source": [
    "print(licenses.columns)\n",
    "print(apn_data.columns)"
   ]
  },
  {
   "cell_type": "code",
   "execution_count": 16,
   "metadata": {},
   "outputs": [],
   "source": [
    "left_on = [\"address\"]\n",
    "right_on = [\"parsed_address\"]"
   ]
  },
  {
   "cell_type": "code",
   "execution_count": 17,
   "metadata": {},
   "outputs": [],
   "source": [
    "matched_results = fuzzymatcher.fuzzy_left_join(licenses,\n",
    "                                               apn_data,\n",
    "                                               left_on,\n",
    "                                               right_on,\n",
    "                                               left_id_col='license_id',\n",
    "                                               right_id_col='permit')"
   ]
  },
  {
   "cell_type": "code",
   "execution_count": null,
   "metadata": {},
   "outputs": [],
   "source": [
    "cols = [\"best_match_score\", \"address\", \"parsed_address\", \"Address\", \"Provider Street Address\",\n",
    "    \"Provider City\", \"City\", \"Provider State\", \"State\"\n",
    "]"
   ]
  },
  {
   "cell_type": "code",
   "execution_count": 21,
   "metadata": {},
   "outputs": [
    {
     "data": {
      "text/html": [
       "<div>\n",
       "<style scoped>\n",
       "    .dataframe tbody tr th:only-of-type {\n",
       "        vertical-align: middle;\n",
       "    }\n",
       "\n",
       "    .dataframe tbody tr th {\n",
       "        vertical-align: top;\n",
       "    }\n",
       "\n",
       "    .dataframe thead th {\n",
       "        text-align: right;\n",
       "    }\n",
       "</style>\n",
       "<table border=\"1\" class=\"dataframe\">\n",
       "  <thead>\n",
       "    <tr style=\"text-align: right;\">\n",
       "      <th></th>\n",
       "      <th>best_match_score</th>\n",
       "      <th>__id_left</th>\n",
       "      <th>__id_right</th>\n",
       "      <th>license_id</th>\n",
       "      <th>address</th>\n",
       "      <th>permit</th>\n",
       "      <th>apn</th>\n",
       "      <th>parsed_address</th>\n",
       "    </tr>\n",
       "  </thead>\n",
       "  <tbody>\n",
       "    <tr>\n",
       "      <th>811168</th>\n",
       "      <td>1.250068</td>\n",
       "      <td>str-05286l</td>\n",
       "      <td>str-05286l</td>\n",
       "      <td>str-05286l</td>\n",
       "      <td>2908 lucia jade loop 92139</td>\n",
       "      <td>str-05286l</td>\n",
       "      <td>5913320300</td>\n",
       "      <td>2908 lucia jade loop 92139</td>\n",
       "    </tr>\n",
       "    <tr>\n",
       "      <th>1148680</th>\n",
       "      <td>1.158014</td>\n",
       "      <td>str-07854l</td>\n",
       "      <td>str-07854l</td>\n",
       "      <td>str-07854l</td>\n",
       "      <td>10510 corte jardin del mar 92130</td>\n",
       "      <td>str-07854l</td>\n",
       "      <td>3076400800</td>\n",
       "      <td>10510 corte jardin del mar 92130</td>\n",
       "    </tr>\n",
       "    <tr>\n",
       "      <th>629995</th>\n",
       "      <td>1.136083</td>\n",
       "      <td>str-07024l</td>\n",
       "      <td>str-07024l</td>\n",
       "      <td>str-07024l</td>\n",
       "      <td>12930 calle de las rosas 92129</td>\n",
       "      <td>str-07024l</td>\n",
       "      <td>3150912600</td>\n",
       "      <td>12930 calle de las rosas 92129</td>\n",
       "    </tr>\n",
       "    <tr>\n",
       "      <th>712718</th>\n",
       "      <td>1.136083</td>\n",
       "      <td>str-02260l</td>\n",
       "      <td>str-02260l</td>\n",
       "      <td>str-02260l</td>\n",
       "      <td>12980 calle de las rosas 92129</td>\n",
       "      <td>str-02260l</td>\n",
       "      <td>3150912100</td>\n",
       "      <td>12980 calle de las rosas 92129</td>\n",
       "    </tr>\n",
       "    <tr>\n",
       "      <th>72251</th>\n",
       "      <td>1.136083</td>\n",
       "      <td>str-02692l</td>\n",
       "      <td>str-02692l</td>\n",
       "      <td>str-02692l</td>\n",
       "      <td>12811 calle de las rosas 92129</td>\n",
       "      <td>str-02692l</td>\n",
       "      <td>3154213600</td>\n",
       "      <td>12811 calle de las rosas 92129</td>\n",
       "    </tr>\n",
       "  </tbody>\n",
       "</table>\n",
       "</div>"
      ],
      "text/plain": [
       "         best_match_score   __id_left  __id_right  license_id  \\\n",
       "811168           1.250068  str-05286l  str-05286l  str-05286l   \n",
       "1148680          1.158014  str-07854l  str-07854l  str-07854l   \n",
       "629995           1.136083  str-07024l  str-07024l  str-07024l   \n",
       "712718           1.136083  str-02260l  str-02260l  str-02260l   \n",
       "72251            1.136083  str-02692l  str-02692l  str-02692l   \n",
       "\n",
       "                                  address      permit         apn  \\\n",
       "811168         2908 lucia jade loop 92139  str-05286l  5913320300   \n",
       "1148680  10510 corte jardin del mar 92130  str-07854l  3076400800   \n",
       "629995     12930 calle de las rosas 92129  str-07024l  3150912600   \n",
       "712718     12980 calle de las rosas 92129  str-02260l  3150912100   \n",
       "72251      12811 calle de las rosas 92129  str-02692l  3154213600   \n",
       "\n",
       "                           parsed_address  \n",
       "811168         2908 lucia jade loop 92139  \n",
       "1148680  10510 corte jardin del mar 92130  \n",
       "629995     12930 calle de las rosas 92129  \n",
       "712718     12980 calle de las rosas 92129  \n",
       "72251      12811 calle de las rosas 92129  "
      ]
     },
     "execution_count": 21,
     "metadata": {},
     "output_type": "execute_result"
    }
   ],
   "source": [
    "matched_results.sort_values(by=['best_match_score'], ascending=False).head()"
   ]
  },
  {
   "cell_type": "code",
   "execution_count": 22,
   "metadata": {},
   "outputs": [
    {
     "data": {
      "text/html": [
       "<div>\n",
       "<style scoped>\n",
       "    .dataframe tbody tr th:only-of-type {\n",
       "        vertical-align: middle;\n",
       "    }\n",
       "\n",
       "    .dataframe tbody tr th {\n",
       "        vertical-align: top;\n",
       "    }\n",
       "\n",
       "    .dataframe thead th {\n",
       "        text-align: right;\n",
       "    }\n",
       "</style>\n",
       "<table border=\"1\" class=\"dataframe\">\n",
       "  <thead>\n",
       "    <tr style=\"text-align: right;\">\n",
       "      <th></th>\n",
       "      <th>best_match_score</th>\n",
       "      <th>__id_left</th>\n",
       "      <th>__id_right</th>\n",
       "      <th>license_id</th>\n",
       "      <th>address</th>\n",
       "      <th>permit</th>\n",
       "      <th>apn</th>\n",
       "      <th>parsed_address</th>\n",
       "    </tr>\n",
       "  </thead>\n",
       "  <tbody>\n",
       "    <tr>\n",
       "      <th>670708</th>\n",
       "      <td>-0.675766</td>\n",
       "      <td>str-06705l</td>\n",
       "      <td>str-01686l</td>\n",
       "      <td>str-06705l</td>\n",
       "      <td>6140 galante place 92130</td>\n",
       "      <td>str-01686l</td>\n",
       "      <td>3043700600</td>\n",
       "      <td>4855 alberson court 92130</td>\n",
       "    </tr>\n",
       "    <tr>\n",
       "      <th>1166019</th>\n",
       "      <td>-0.585227</td>\n",
       "      <td>str-07383l</td>\n",
       "      <td>str-01128l</td>\n",
       "      <td>str-07383l</td>\n",
       "      <td>8430 via sonoma #no.50 92037</td>\n",
       "      <td>str-01128l</td>\n",
       "      <td>3467610400</td>\n",
       "      <td>8425 n la jolla scenic dr 92037</td>\n",
       "    </tr>\n",
       "    <tr>\n",
       "      <th>889469</th>\n",
       "      <td>-0.534996</td>\n",
       "      <td>str-06318l</td>\n",
       "      <td>str-00839l</td>\n",
       "      <td>str-06318l</td>\n",
       "      <td>4120 porte de merano #82 92122</td>\n",
       "      <td>str-00839l</td>\n",
       "      <td>3011220200</td>\n",
       "      <td>2583 via merano 92014</td>\n",
       "    </tr>\n",
       "    <tr>\n",
       "      <th>109997</th>\n",
       "      <td>-0.531587</td>\n",
       "      <td>str-05815l</td>\n",
       "      <td>str-04880l</td>\n",
       "      <td>str-05815l</td>\n",
       "      <td>3515 n caminito el rincon rd #289 92130</td>\n",
       "      <td>str-04880l</td>\n",
       "      <td>4534221800</td>\n",
       "      <td>3512 n 31st st 92104</td>\n",
       "    </tr>\n",
       "    <tr>\n",
       "      <th>827673</th>\n",
       "      <td>-0.512320</td>\n",
       "      <td>str-07243l</td>\n",
       "      <td>str-07728l</td>\n",
       "      <td>str-07243l</td>\n",
       "      <td>10656 caminito chueco #xx 92126</td>\n",
       "      <td>str-07728l</td>\n",
       "      <td>3113532500</td>\n",
       "      <td>10584 bandell court 92126</td>\n",
       "    </tr>\n",
       "  </tbody>\n",
       "</table>\n",
       "</div>"
      ],
      "text/plain": [
       "         best_match_score   __id_left  __id_right  license_id  \\\n",
       "670708          -0.675766  str-06705l  str-01686l  str-06705l   \n",
       "1166019         -0.585227  str-07383l  str-01128l  str-07383l   \n",
       "889469          -0.534996  str-06318l  str-00839l  str-06318l   \n",
       "109997          -0.531587  str-05815l  str-04880l  str-05815l   \n",
       "827673          -0.512320  str-07243l  str-07728l  str-07243l   \n",
       "\n",
       "                                         address      permit         apn  \\\n",
       "670708                  6140 galante place 92130  str-01686l  3043700600   \n",
       "1166019             8430 via sonoma #no.50 92037  str-01128l  3467610400   \n",
       "889469            4120 porte de merano #82 92122  str-00839l  3011220200   \n",
       "109997   3515 n caminito el rincon rd #289 92130  str-04880l  4534221800   \n",
       "827673           10656 caminito chueco #xx 92126  str-07728l  3113532500   \n",
       "\n",
       "                          parsed_address  \n",
       "670708         4855 alberson court 92130  \n",
       "1166019  8425 n la jolla scenic dr 92037  \n",
       "889469             2583 via merano 92014  \n",
       "109997              3512 n 31st st 92104  \n",
       "827673         10584 bandell court 92126  "
      ]
     },
     "execution_count": 22,
     "metadata": {},
     "output_type": "execute_result"
    }
   ],
   "source": [
    "matched_results.sort_values(by=['best_match_score'], ascending=True).head(5)"
   ]
  },
  {
   "cell_type": "code",
   "execution_count": 26,
   "metadata": {},
   "outputs": [],
   "source": [
    "result = matched_results.query(\"best_match_score <= .80\").sort_values(\n",
    "    by=['best_match_score'], ascending=False)"
   ]
  },
  {
   "cell_type": "code",
   "execution_count": 27,
   "metadata": {},
   "outputs": [],
   "source": [
    "# export file\n",
    "result.to_csv(os.path.join(FOLDER_DEST, r'fuzzymatcher.csv'), index=False)"
   ]
  },
  {
   "cell_type": "code",
   "execution_count": null,
   "metadata": {},
   "outputs": [],
   "source": []
  }
 ],
 "metadata": {
  "kernelspec": {
   "display_name": "deckard",
   "language": "python",
   "name": "python3"
  },
  "language_info": {
   "codemirror_mode": {
    "name": "ipython",
    "version": 3
   },
   "file_extension": ".py",
   "mimetype": "text/x-python",
   "name": "python",
   "nbconvert_exporter": "python",
   "pygments_lexer": "ipython3",
   "version": "3.11.3"
  },
  "orig_nbformat": 4
 },
 "nbformat": 4,
 "nbformat_minor": 2
}
