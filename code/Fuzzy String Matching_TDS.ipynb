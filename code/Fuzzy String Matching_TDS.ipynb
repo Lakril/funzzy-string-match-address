{
 "cells": [
  {
   "cell_type": "code",
   "execution_count": 1,
   "metadata": {
    "ExecuteTime": {
     "end_time": "2021-11-04T16:39:52.346875Z",
     "start_time": "2021-11-04T16:39:51.585868Z"
    }
   },
   "outputs": [],
   "source": [
    "# Import packages\n",
    "import os\n",
    "import pandas as pd\n",
    "from fuzzywuzzy import fuzz"
   ]
  },
  {
   "cell_type": "code",
   "execution_count": 2,
   "metadata": {},
   "outputs": [],
   "source": [
    "# absolute path\n",
    "FOLDER_DEST = os.path.abspath(\"../storage/\")"
   ]
  },
  {
   "cell_type": "code",
   "execution_count": 19,
   "metadata": {
    "ExecuteTime": {
     "end_time": "2021-11-04T16:39:52.770880Z",
     "start_time": "2021-11-04T16:39:52.349877Z"
    }
   },
   "outputs": [],
   "source": [
    "# Import the customers data as data frames\n",
    "licenses = pd.read_csv(FOLDER_DEST + \"/licenses.csv\")\n",
    "apn_data = pd.read_csv(FOLDER_DEST + \"/apn-data.csv\")\n",
    "\n",
    "# Clean customers lists\n",
    "A_cleaned = [address for address in licenses[\"address\"] if not (pd.isnull(address))]\n",
    "B_cleaned = [\n",
    "    address\n",
    "    for address in apn_data[\"parsed_address\"].unique()\n",
    "    if not (pd.isnull(address))\n",
    "]"
   ]
  },
  {
   "cell_type": "code",
   "execution_count": 15,
   "metadata": {},
   "outputs": [
    {
     "data": {
      "text/plain": [
       "(36889, 3)"
      ]
     },
     "execution_count": 15,
     "metadata": {},
     "output_type": "execute_result"
    }
   ],
   "source": [
    "apn_data.shape"
   ]
  },
  {
   "cell_type": "code",
   "execution_count": 18,
   "metadata": {},
   "outputs": [
    {
     "data": {
      "text/html": [
       "<div>\n",
       "<style scoped>\n",
       "    .dataframe tbody tr th:only-of-type {\n",
       "        vertical-align: middle;\n",
       "    }\n",
       "\n",
       "    .dataframe tbody tr th {\n",
       "        vertical-align: top;\n",
       "    }\n",
       "\n",
       "    .dataframe thead th {\n",
       "        text-align: right;\n",
       "    }\n",
       "</style>\n",
       "<table border=\"1\" class=\"dataframe\">\n",
       "  <thead>\n",
       "    <tr style=\"text-align: right;\">\n",
       "      <th></th>\n",
       "      <th>permit</th>\n",
       "      <th>apn</th>\n",
       "      <th>parsed_address</th>\n",
       "    </tr>\n",
       "  </thead>\n",
       "  <tbody>\n",
       "    <tr>\n",
       "      <th>0</th>\n",
       "      <td>str-02005l</td>\n",
       "      <td>4303703300</td>\n",
       "      <td>2070 illion st 92110</td>\n",
       "    </tr>\n",
       "    <tr>\n",
       "      <th>1</th>\n",
       "      <td>str-02053l</td>\n",
       "      <td>4495820800</td>\n",
       "      <td>3611 quimby st 92106</td>\n",
       "    </tr>\n",
       "    <tr>\n",
       "      <th>2</th>\n",
       "      <td>str-00324l</td>\n",
       "      <td>4236032300</td>\n",
       "      <td>3625 mission blvd 92109</td>\n",
       "    </tr>\n",
       "    <tr>\n",
       "      <th>3</th>\n",
       "      <td>str-03878l</td>\n",
       "      <td>4153812100</td>\n",
       "      <td>4928 crystal dr 92109</td>\n",
       "    </tr>\n",
       "    <tr>\n",
       "      <th>4</th>\n",
       "      <td>str-01256l</td>\n",
       "      <td>4237120402</td>\n",
       "      <td>729 san gabriel pl 92109</td>\n",
       "    </tr>\n",
       "    <tr>\n",
       "      <th>...</th>\n",
       "      <td>...</td>\n",
       "      <td>...</td>\n",
       "      <td>...</td>\n",
       "    </tr>\n",
       "    <tr>\n",
       "      <th>36884</th>\n",
       "      <td>str-07570l</td>\n",
       "      <td>4533312200</td>\n",
       "      <td>3552 villa ter 92104</td>\n",
       "    </tr>\n",
       "    <tr>\n",
       "      <th>36885</th>\n",
       "      <td>str-06897l</td>\n",
       "      <td>4713030100</td>\n",
       "      <td>4243 46th st 92115</td>\n",
       "    </tr>\n",
       "    <tr>\n",
       "      <th>36886</th>\n",
       "      <td>str-06820l</td>\n",
       "      <td>4235720200</td>\n",
       "      <td>807 toulon court 92109</td>\n",
       "    </tr>\n",
       "    <tr>\n",
       "      <th>36887</th>\n",
       "      <td>str-06836l</td>\n",
       "      <td>4205421100</td>\n",
       "      <td>7504 baltic st 92111</td>\n",
       "    </tr>\n",
       "    <tr>\n",
       "      <th>36888</th>\n",
       "      <td>str-07515l</td>\n",
       "      <td>4291150300</td>\n",
       "      <td>2986 mission village dr 92123</td>\n",
       "    </tr>\n",
       "  </tbody>\n",
       "</table>\n",
       "<p>19020 rows × 3 columns</p>\n",
       "</div>"
      ],
      "text/plain": [
       "           permit         apn                 parsed_address\n",
       "0      str-02005l  4303703300           2070 illion st 92110\n",
       "1      str-02053l  4495820800           3611 quimby st 92106\n",
       "2      str-00324l  4236032300        3625 mission blvd 92109\n",
       "3      str-03878l  4153812100          4928 crystal dr 92109\n",
       "4      str-01256l  4237120402       729 san gabriel pl 92109\n",
       "...           ...         ...                            ...\n",
       "36884  str-07570l  4533312200           3552 villa ter 92104\n",
       "36885  str-06897l  4713030100             4243 46th st 92115\n",
       "36886  str-06820l  4235720200         807 toulon court 92109\n",
       "36887  str-06836l  4205421100           7504 baltic st 92111\n",
       "36888  str-07515l  4291150300  2986 mission village dr 92123\n",
       "\n",
       "[19020 rows x 3 columns]"
      ]
     },
     "execution_count": 18,
     "metadata": {},
     "output_type": "execute_result"
    }
   ],
   "source": [
    "m = apn_data.drop_duplicates(subset='parsed_address')\n",
    "m"
   ]
  },
  {
   "cell_type": "code",
   "execution_count": 24,
   "metadata": {},
   "outputs": [
    {
     "ename": "ValueError",
     "evalue": "too many values to unpack (expected 2)",
     "output_type": "error",
     "traceback": [
      "\u001b[0;31m---------------------------------------------------------------------------\u001b[0m",
      "\u001b[0;31mValueError\u001b[0m                                Traceback (most recent call last)",
      "Cell \u001b[0;32mIn[24], line 1\u001b[0m\n\u001b[0;32m----> 1\u001b[0m \u001b[39mfor\u001b[39;00m i, j \u001b[39min\u001b[39;00m apn_data:\n\u001b[1;32m      2\u001b[0m     \u001b[39mprint\u001b[39m(apn_data[\u001b[39m'\u001b[39m\u001b[39mpermit\u001b[39m\u001b[39m'\u001b[39m][i])\n",
      "\u001b[0;31mValueError\u001b[0m: too many values to unpack (expected 2)"
     ]
    }
   ],
   "source": [
    "\n",
    "for i, j in apn_data:\n",
    "    print(apn_data['permit'][i])"
   ]
  },
  {
   "cell_type": "code",
   "execution_count": 30,
   "metadata": {},
   "outputs": [
    {
     "data": {
      "text/plain": [
       "'str-01686l'"
      ]
     },
     "execution_count": 30,
     "metadata": {},
     "output_type": "execute_result"
    }
   ],
   "source": [
    "licenses['license_id'][0]\n",
    "#licenses['license_id'][0]"
   ]
  },
  {
   "cell_type": "code",
   "execution_count": 29,
   "metadata": {},
   "outputs": [
    {
     "data": {
      "text/plain": [
       "'str-02005l'"
      ]
     },
     "execution_count": 29,
     "metadata": {},
     "output_type": "execute_result"
    }
   ],
   "source": [
    "apn_data['permit'][0]"
   ]
  },
  {
   "cell_type": "code",
   "execution_count": 21,
   "metadata": {
    "ExecuteTime": {
     "end_time": "2021-11-04T16:39:52.834884Z",
     "start_time": "2021-11-04T16:39:52.776882Z"
    }
   },
   "outputs": [],
   "source": [
    "# Perform fuzzy string matching\n",
    "tuples_list = [\n",
    "    max([(fuzz.token_set_ratio(i, j), j) for j in B_cleaned]) for i in A_cleaned\n",
    "]"
   ]
  },
  {
   "cell_type": "code",
   "execution_count": 22,
   "metadata": {
    "ExecuteTime": {
     "end_time": "2021-11-04T16:39:52.880880Z",
     "start_time": "2021-11-04T16:39:52.838882Z"
    }
   },
   "outputs": [
    {
     "data": {
      "text/html": [
       "<div>\n",
       "<style scoped>\n",
       "    .dataframe tbody tr th:only-of-type {\n",
       "        vertical-align: middle;\n",
       "    }\n",
       "\n",
       "    .dataframe tbody tr th {\n",
       "        vertical-align: top;\n",
       "    }\n",
       "\n",
       "    .dataframe thead th {\n",
       "        text-align: right;\n",
       "    }\n",
       "</style>\n",
       "<table border=\"1\" class=\"dataframe\">\n",
       "  <thead>\n",
       "    <tr style=\"text-align: right;\">\n",
       "      <th></th>\n",
       "      <th>licenses</th>\n",
       "      <th>parsed_address</th>\n",
       "      <th>similarity score</th>\n",
       "    </tr>\n",
       "  </thead>\n",
       "  <tbody>\n",
       "    <tr>\n",
       "      <th>0</th>\n",
       "      <td>4855 alberson court 92130</td>\n",
       "      <td>4855 alberson court 92130</td>\n",
       "      <td>100</td>\n",
       "    </tr>\n",
       "    <tr>\n",
       "      <th>1</th>\n",
       "      <td>2028 30th st 92104</td>\n",
       "      <td>2028 30th st 92104</td>\n",
       "      <td>100</td>\n",
       "    </tr>\n",
       "    <tr>\n",
       "      <th>2</th>\n",
       "      <td>5145 coban st 92114</td>\n",
       "      <td>6515 acorn st 92115</td>\n",
       "      <td>79</td>\n",
       "    </tr>\n",
       "    <tr>\n",
       "      <th>3</th>\n",
       "      <td>3327 32nd st 92104</td>\n",
       "      <td>3327 32nd st 92104</td>\n",
       "      <td>100</td>\n",
       "    </tr>\n",
       "    <tr>\n",
       "      <th>4</th>\n",
       "      <td>1305 elevation rd 92110</td>\n",
       "      <td>1305 elevation rd 92110</td>\n",
       "      <td>100</td>\n",
       "    </tr>\n",
       "    <tr>\n",
       "      <th>...</th>\n",
       "      <td>...</td>\n",
       "      <td>...</td>\n",
       "      <td>...</td>\n",
       "    </tr>\n",
       "    <tr>\n",
       "      <th>7244</th>\n",
       "      <td>3232 39th st 92105</td>\n",
       "      <td>3232 39th st 92105</td>\n",
       "      <td>100</td>\n",
       "    </tr>\n",
       "    <tr>\n",
       "      <th>7245</th>\n",
       "      <td>4767 ocean blvd #204 92109</td>\n",
       "      <td>4667 ocean blvd #204 92109</td>\n",
       "      <td>96</td>\n",
       "    </tr>\n",
       "    <tr>\n",
       "      <th>7246</th>\n",
       "      <td>2620 wightman st 92104</td>\n",
       "      <td>3650 wightman st 92104</td>\n",
       "      <td>91</td>\n",
       "    </tr>\n",
       "    <tr>\n",
       "      <th>7247</th>\n",
       "      <td>2183 s avenida de la playa 92037</td>\n",
       "      <td>2320 avenida de la playa 92037</td>\n",
       "      <td>91</td>\n",
       "    </tr>\n",
       "    <tr>\n",
       "      <th>7248</th>\n",
       "      <td>4855 narragansett av #a 92107</td>\n",
       "      <td>4875 narragansett ave 92107</td>\n",
       "      <td>91</td>\n",
       "    </tr>\n",
       "  </tbody>\n",
       "</table>\n",
       "<p>7249 rows × 3 columns</p>\n",
       "</div>"
      ],
      "text/plain": [
       "                              licenses                  parsed_address  \\\n",
       "0            4855 alberson court 92130       4855 alberson court 92130   \n",
       "1                   2028 30th st 92104              2028 30th st 92104   \n",
       "2                  5145 coban st 92114             6515 acorn st 92115   \n",
       "3                   3327 32nd st 92104              3327 32nd st 92104   \n",
       "4              1305 elevation rd 92110         1305 elevation rd 92110   \n",
       "...                                ...                             ...   \n",
       "7244                3232 39th st 92105              3232 39th st 92105   \n",
       "7245        4767 ocean blvd #204 92109      4667 ocean blvd #204 92109   \n",
       "7246            2620 wightman st 92104          3650 wightman st 92104   \n",
       "7247  2183 s avenida de la playa 92037  2320 avenida de la playa 92037   \n",
       "7248     4855 narragansett av #a 92107     4875 narragansett ave 92107   \n",
       "\n",
       "      similarity score  \n",
       "0                  100  \n",
       "1                  100  \n",
       "2                   79  \n",
       "3                  100  \n",
       "4                  100  \n",
       "...                ...  \n",
       "7244               100  \n",
       "7245                96  \n",
       "7246                91  \n",
       "7247                91  \n",
       "7248                91  \n",
       "\n",
       "[7249 rows x 3 columns]"
      ]
     },
     "execution_count": 22,
     "metadata": {},
     "output_type": "execute_result"
    }
   ],
   "source": [
    "# Unpack list of tuples into two lists\n",
    "similarity_score, fuzzy_match = map(list, zip(*tuples_list))\n",
    "\n",
    "# Create pandas DataFrame\n",
    "df = pd.DataFrame(\n",
    "    {\n",
    "        \"licenses\": A_cleaned,\n",
    "        \"parsed_address\": fuzzy_match,\n",
    "        \"similarity score\": similarity_score,\n",
    "    }\n",
    ")\n",
    "df"
   ]
  },
  {
   "cell_type": "code",
   "execution_count": 23,
   "metadata": {
    "ExecuteTime": {
     "end_time": "2021-11-04T16:39:53.019882Z",
     "start_time": "2021-11-04T16:39:52.883884Z"
    }
   },
   "outputs": [],
   "source": [
    "# Export to Excel\n",
    "df.to_excel(\n",
    "    os.path.join(FOLDER_DEST, r\"Fuzzy String Matching.xlsx\"),\n",
    "    sheet_name=\"Fuzzy String Matching\",\n",
    "    index=False,\n",
    ")"
   ]
  },
  {
   "cell_type": "code",
   "execution_count": 26,
   "metadata": {},
   "outputs": [],
   "source": [
    "result = pd.merge(df, apn_data, how=\"left\", on=[\"parsed_address\"], indicator='many_to_many')"
   ]
  },
  {
   "cell_type": "code",
   "execution_count": 27,
   "metadata": {},
   "outputs": [
    {
     "data": {
      "text/html": [
       "<div>\n",
       "<style scoped>\n",
       "    .dataframe tbody tr th:only-of-type {\n",
       "        vertical-align: middle;\n",
       "    }\n",
       "\n",
       "    .dataframe tbody tr th {\n",
       "        vertical-align: top;\n",
       "    }\n",
       "\n",
       "    .dataframe thead th {\n",
       "        text-align: right;\n",
       "    }\n",
       "</style>\n",
       "<table border=\"1\" class=\"dataframe\">\n",
       "  <thead>\n",
       "    <tr style=\"text-align: right;\">\n",
       "      <th></th>\n",
       "      <th>licenses</th>\n",
       "      <th>parsed_address</th>\n",
       "      <th>similarity score</th>\n",
       "      <th>permit</th>\n",
       "      <th>apn</th>\n",
       "      <th>many_to_many</th>\n",
       "    </tr>\n",
       "  </thead>\n",
       "  <tbody>\n",
       "    <tr>\n",
       "      <th>0</th>\n",
       "      <td>4855 alberson court 92130</td>\n",
       "      <td>4855 alberson court 92130</td>\n",
       "      <td>100</td>\n",
       "      <td>str-01686l</td>\n",
       "      <td>3043700600</td>\n",
       "      <td>both</td>\n",
       "    </tr>\n",
       "    <tr>\n",
       "      <th>1</th>\n",
       "      <td>2028 30th st 92104</td>\n",
       "      <td>2028 30th st 92104</td>\n",
       "      <td>100</td>\n",
       "      <td>str-01757l</td>\n",
       "      <td>5391550800</td>\n",
       "      <td>both</td>\n",
       "    </tr>\n",
       "    <tr>\n",
       "      <th>2</th>\n",
       "      <td>5145 coban st 92114</td>\n",
       "      <td>6515 acorn st 92115</td>\n",
       "      <td>79</td>\n",
       "      <td>str-02656l</td>\n",
       "      <td>4676200500</td>\n",
       "      <td>both</td>\n",
       "    </tr>\n",
       "    <tr>\n",
       "      <th>3</th>\n",
       "      <td>3327 32nd st 92104</td>\n",
       "      <td>3327 32nd st 92104</td>\n",
       "      <td>100</td>\n",
       "      <td>str-01505l</td>\n",
       "      <td>4535111200</td>\n",
       "      <td>both</td>\n",
       "    </tr>\n",
       "    <tr>\n",
       "      <th>4</th>\n",
       "      <td>1305 elevation rd 92110</td>\n",
       "      <td>1305 elevation rd 92110</td>\n",
       "      <td>100</td>\n",
       "      <td>str-04720l</td>\n",
       "      <td>4362311900</td>\n",
       "      <td>both</td>\n",
       "    </tr>\n",
       "    <tr>\n",
       "      <th>...</th>\n",
       "      <td>...</td>\n",
       "      <td>...</td>\n",
       "      <td>...</td>\n",
       "      <td>...</td>\n",
       "      <td>...</td>\n",
       "      <td>...</td>\n",
       "    </tr>\n",
       "    <tr>\n",
       "      <th>17075</th>\n",
       "      <td>4767 ocean blvd #204 92109</td>\n",
       "      <td>4667 ocean blvd #204 92109</td>\n",
       "      <td>96</td>\n",
       "      <td>str-05674l</td>\n",
       "      <td>4155811317</td>\n",
       "      <td>both</td>\n",
       "    </tr>\n",
       "    <tr>\n",
       "      <th>17076</th>\n",
       "      <td>4767 ocean blvd #204 92109</td>\n",
       "      <td>4667 ocean blvd #204 92109</td>\n",
       "      <td>96</td>\n",
       "      <td>str-04086l</td>\n",
       "      <td>4155811317</td>\n",
       "      <td>both</td>\n",
       "    </tr>\n",
       "    <tr>\n",
       "      <th>17077</th>\n",
       "      <td>2620 wightman st 92104</td>\n",
       "      <td>3650 wightman st 92104</td>\n",
       "      <td>91</td>\n",
       "      <td>str-03936l</td>\n",
       "      <td>4474721600</td>\n",
       "      <td>both</td>\n",
       "    </tr>\n",
       "    <tr>\n",
       "      <th>17078</th>\n",
       "      <td>2183 s avenida de la playa 92037</td>\n",
       "      <td>2320 avenida de la playa 92037</td>\n",
       "      <td>91</td>\n",
       "      <td>str-00291l</td>\n",
       "      <td>3463001400</td>\n",
       "      <td>both</td>\n",
       "    </tr>\n",
       "    <tr>\n",
       "      <th>17079</th>\n",
       "      <td>4855 narragansett av #a 92107</td>\n",
       "      <td>4875 narragansett ave 92107</td>\n",
       "      <td>91</td>\n",
       "      <td>str-06993l</td>\n",
       "      <td>4482722401</td>\n",
       "      <td>both</td>\n",
       "    </tr>\n",
       "  </tbody>\n",
       "</table>\n",
       "<p>17080 rows × 6 columns</p>\n",
       "</div>"
      ],
      "text/plain": [
       "                               licenses                  parsed_address  \\\n",
       "0             4855 alberson court 92130       4855 alberson court 92130   \n",
       "1                    2028 30th st 92104              2028 30th st 92104   \n",
       "2                   5145 coban st 92114             6515 acorn st 92115   \n",
       "3                    3327 32nd st 92104              3327 32nd st 92104   \n",
       "4               1305 elevation rd 92110         1305 elevation rd 92110   \n",
       "...                                 ...                             ...   \n",
       "17075        4767 ocean blvd #204 92109      4667 ocean blvd #204 92109   \n",
       "17076        4767 ocean blvd #204 92109      4667 ocean blvd #204 92109   \n",
       "17077            2620 wightman st 92104          3650 wightman st 92104   \n",
       "17078  2183 s avenida de la playa 92037  2320 avenida de la playa 92037   \n",
       "17079     4855 narragansett av #a 92107     4875 narragansett ave 92107   \n",
       "\n",
       "       similarity score      permit         apn many_to_many  \n",
       "0                   100  str-01686l  3043700600         both  \n",
       "1                   100  str-01757l  5391550800         both  \n",
       "2                    79  str-02656l  4676200500         both  \n",
       "3                   100  str-01505l  4535111200         both  \n",
       "4                   100  str-04720l  4362311900         both  \n",
       "...                 ...         ...         ...          ...  \n",
       "17075                96  str-05674l  4155811317         both  \n",
       "17076                96  str-04086l  4155811317         both  \n",
       "17077                91  str-03936l  4474721600         both  \n",
       "17078                91  str-00291l  3463001400         both  \n",
       "17079                91  str-06993l  4482722401         both  \n",
       "\n",
       "[17080 rows x 6 columns]"
      ]
     },
     "execution_count": 27,
     "metadata": {},
     "output_type": "execute_result"
    }
   ],
   "source": [
    "result"
   ]
  },
  {
   "cell_type": "code",
   "execution_count": 28,
   "metadata": {},
   "outputs": [],
   "source": [
    "# export file\n",
    "result.to_csv(os.path.join(FOLDER_DEST, r'join-licenses.csv'), index=False)"
   ]
  }
 ],
 "metadata": {
  "hide_input": false,
  "kernelspec": {
   "display_name": "Python 3 (ipykernel)",
   "language": "python",
   "name": "python3"
  },
  "language_info": {
   "codemirror_mode": {
    "name": "ipython",
    "version": 3
   },
   "file_extension": ".py",
   "mimetype": "text/x-python",
   "name": "python",
   "nbconvert_exporter": "python",
   "pygments_lexer": "ipython3",
   "version": "3.11.3"
  },
  "toc": {
   "base_numbering": 1,
   "nav_menu": {},
   "number_sections": true,
   "sideBar": true,
   "skip_h1_title": false,
   "title_cell": "Table of Contents",
   "title_sidebar": "Contents",
   "toc_cell": false,
   "toc_position": {},
   "toc_section_display": true,
   "toc_window_display": false
  }
 },
 "nbformat": 4,
 "nbformat_minor": 4
}
